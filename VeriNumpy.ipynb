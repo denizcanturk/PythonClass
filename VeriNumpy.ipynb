{
 "cells": [
  {
   "cell_type": "code",
   "execution_count": 3,
   "id": "45299488-5649-44ad-aaaa-62cefeacb4ba",
   "metadata": {},
   "outputs": [],
   "source": [
    "import numpy as np"
   ]
  },
  {
   "cell_type": "markdown",
   "id": "8f78e4fb-6409-4a42-8884-11d9492fce2d",
   "metadata": {},
   "source": [
    "Bir veri tipi dir... "
   ]
  },
  {
   "cell_type": "code",
   "execution_count": null,
   "id": "1a93594b-f223-4b3d-9b4f-376efdcf8892",
   "metadata": {},
   "outputs": [],
   "source": []
  },
  {
   "cell_type": "code",
   "execution_count": 4,
   "id": "e20081d9-878d-4703-8df2-1ca53348c2c4",
   "metadata": {},
   "outputs": [
    {
     "data": {
      "text/plain": [
       "array([1, 5, 2, 3, 6])"
      ]
     },
     "execution_count": 4,
     "metadata": {},
     "output_type": "execute_result"
    }
   ],
   "source": [
    "np.array([1,5,2,3,6])"
   ]
  },
  {
   "cell_type": "code",
   "execution_count": 5,
   "id": "f265e69a-f05c-4327-89bc-f11bbb85786b",
   "metadata": {},
   "outputs": [],
   "source": [
    "arr = np.array([1,5,2,3,6])"
   ]
  },
  {
   "cell_type": "code",
   "execution_count": 6,
   "id": "00944386-8ef7-4652-8835-111bc85cf81c",
   "metadata": {},
   "outputs": [
    {
     "data": {
      "text/plain": [
       "numpy.ndarray"
      ]
     },
     "execution_count": 6,
     "metadata": {},
     "output_type": "execute_result"
    }
   ],
   "source": [
    "type(arr)"
   ]
  },
  {
   "cell_type": "code",
   "execution_count": 12,
   "id": "332d8a40-c8f9-4753-a360-4ad1aee2c062",
   "metadata": {},
   "outputs": [
    {
     "data": {
      "text/plain": [
       "array([3, 5, 6, 2])"
      ]
     },
     "execution_count": 12,
     "metadata": {},
     "output_type": "execute_result"
    }
   ],
   "source": [
    "np.array([3.14, 5,6,2],dtype=\"int\")"
   ]
  },
  {
   "cell_type": "code",
   "execution_count": 13,
   "id": "01806e90-c071-42ec-b00c-9e7af22acf1e",
   "metadata": {},
   "outputs": [],
   "source": [
    "#Sıfırdan array oluşturma"
   ]
  },
  {
   "cell_type": "code",
   "execution_count": 15,
   "id": "1007e176-97e2-4da2-9d1d-b13b96654134",
   "metadata": {},
   "outputs": [
    {
     "data": {
      "text/plain": [
       "array([0, 0, 0, 0, 0, 0, 0, 0, 0, 0])"
      ]
     },
     "execution_count": 15,
     "metadata": {},
     "output_type": "execute_result"
    }
   ],
   "source": [
    "np.zeros(10, dtype=\"int\")"
   ]
  },
  {
   "cell_type": "code",
   "execution_count": 16,
   "id": "8a49efc8-fe98-4c8e-9468-12440ba5b974",
   "metadata": {},
   "outputs": [
    {
     "data": {
      "text/plain": [
       "array([1., 1., 1., 1., 1., 1., 1., 1., 1., 1.])"
      ]
     },
     "execution_count": 16,
     "metadata": {},
     "output_type": "execute_result"
    }
   ],
   "source": [
    "np.ones(10)"
   ]
  },
  {
   "cell_type": "code",
   "execution_count": 17,
   "id": "c8fb6067-413f-4f4a-b737-d8315ba2ec7a",
   "metadata": {},
   "outputs": [
    {
     "data": {
      "text/plain": [
       "array([[1., 1., 1., 1., 1.],\n",
       "       [1., 1., 1., 1., 1.],\n",
       "       [1., 1., 1., 1., 1.]])"
      ]
     },
     "execution_count": 17,
     "metadata": {},
     "output_type": "execute_result"
    }
   ],
   "source": [
    "np.ones((3,5))"
   ]
  },
  {
   "cell_type": "code",
   "execution_count": 18,
   "id": "4c15704c-7160-4220-9ce2-c13e91f0b463",
   "metadata": {},
   "outputs": [
    {
     "data": {
      "text/plain": [
       "array([[[1., 1., 1.],\n",
       "        [1., 1., 1.],\n",
       "        [1., 1., 1.],\n",
       "        [1., 1., 1.],\n",
       "        [1., 1., 1.]],\n",
       "\n",
       "       [[1., 1., 1.],\n",
       "        [1., 1., 1.],\n",
       "        [1., 1., 1.],\n",
       "        [1., 1., 1.],\n",
       "        [1., 1., 1.]],\n",
       "\n",
       "       [[1., 1., 1.],\n",
       "        [1., 1., 1.],\n",
       "        [1., 1., 1.],\n",
       "        [1., 1., 1.],\n",
       "        [1., 1., 1.]]])"
      ]
     },
     "execution_count": 18,
     "metadata": {},
     "output_type": "execute_result"
    }
   ],
   "source": [
    "np.ones((3,5,3))"
   ]
  },
  {
   "cell_type": "code",
   "execution_count": 19,
   "id": "40de230a-aaec-416e-88a2-99fd71ab1864",
   "metadata": {},
   "outputs": [],
   "source": [
    "#Belirli sayılardan oluşan bir array için "
   ]
  },
  {
   "cell_type": "code",
   "execution_count": 57,
   "id": "ea00c234-25ec-4d77-ab1a-0cc4e8ed5920",
   "metadata": {},
   "outputs": [
    {
     "data": {
      "text/plain": [
       "array([[10, 10, 10],\n",
       "       [10, 10, 10],\n",
       "       [10, 10, 10]])"
      ]
     },
     "execution_count": 57,
     "metadata": {},
     "output_type": "execute_result"
    }
   ],
   "source": [
    "# saedce 10 değerini içeren bir 3x3 matris\n",
    "np.full((3,3), 10)"
   ]
  },
  {
   "cell_type": "code",
   "execution_count": 21,
   "id": "a6a1b7ed-868a-4f3e-9914-70bb80d287b3",
   "metadata": {},
   "outputs": [],
   "source": [
    "#Belirli aralıkta atlamalı sayı dizisi"
   ]
  },
  {
   "cell_type": "code",
   "execution_count": 22,
   "id": "76e51333-2f77-451f-929d-927f5ebb76b3",
   "metadata": {},
   "outputs": [
    {
     "data": {
      "text/plain": [
       "array([ 0,  2,  4,  6,  8, 10])"
      ]
     },
     "execution_count": 22,
     "metadata": {},
     "output_type": "execute_result"
    }
   ],
   "source": [
    "np.arange(0,11,2)"
   ]
  },
  {
   "cell_type": "code",
   "execution_count": 24,
   "id": "0128da2a-2671-4ec9-afc8-e8b0719c01e3",
   "metadata": {},
   "outputs": [],
   "source": [
    "#Belirli aralığı adet e bölecek şekilde dilimle"
   ]
  },
  {
   "cell_type": "code",
   "execution_count": 33,
   "id": "1b3529c7-4314-41fb-aa78-d3e9648beb55",
   "metadata": {},
   "outputs": [
    {
     "data": {
      "text/plain": [
       "array([0.        , 0.11111111, 0.22222222, 0.33333333, 0.44444444,\n",
       "       0.55555556, 0.66666667, 0.77777778, 0.88888889, 1.        ])"
      ]
     },
     "execution_count": 33,
     "metadata": {},
     "output_type": "execute_result"
    }
   ],
   "source": [
    "np.linspace(0,1,10)"
   ]
  },
  {
   "cell_type": "markdown",
   "id": "fc05a904-2083-4273-8b58-c72fecd9d2e7",
   "metadata": {},
   "source": [
    "#İstediğimiz bir ortalama değer ve std sapmaya sahip bir dizi de oluşturulabilir"
   ]
  },
  {
   "cell_type": "code",
   "execution_count": 34,
   "id": "873df27e-0703-42b8-bb47-f695b904b569",
   "metadata": {},
   "outputs": [],
   "source": [
    "a = np.arange(0,11,1)"
   ]
  },
  {
   "cell_type": "code",
   "execution_count": 35,
   "id": "eb08b32e-69fe-4e91-8242-4a566bd8625e",
   "metadata": {},
   "outputs": [
    {
     "data": {
      "text/plain": [
       "np.float64(3.1622776601683795)"
      ]
     },
     "execution_count": 35,
     "metadata": {},
     "output_type": "execute_result"
    }
   ],
   "source": [
    "a.std()"
   ]
  },
  {
   "cell_type": "code",
   "execution_count": 36,
   "id": "006e9d09-a8f3-4980-83f2-fe318ef00ca3",
   "metadata": {},
   "outputs": [
    {
     "data": {
      "text/plain": [
       "np.float64(5.0)"
      ]
     },
     "execution_count": 36,
     "metadata": {},
     "output_type": "execute_result"
    }
   ],
   "source": [
    "a.mean()"
   ]
  },
  {
   "cell_type": "code",
   "execution_count": 38,
   "id": "2375659d-f6b1-43e0-bed2-84046876a637",
   "metadata": {},
   "outputs": [
    {
     "data": {
      "text/plain": [
       "array([[0, 2, 2],\n",
       "       [2, 6, 9],\n",
       "       [8, 4, 9]])"
      ]
     },
     "execution_count": 38,
     "metadata": {},
     "output_type": "execute_result"
    }
   ],
   "source": [
    "#rastgele sayılardan oluşan 3x3 lük array\n",
    "np.random.randint(0,10, (3,3))"
   ]
  },
  {
   "cell_type": "markdown",
   "id": "b4ed02d7-4ea5-4588-87c3-f39adbd73d0b",
   "metadata": {},
   "source": [
    "# **NUMPY** _ARRAY_ OZELLİKLERİ\n",
    "\n",
    "##### ndim : Boyut Sayısı\n",
    "##### shape: Boyut Bilgisi\n",
    "##### size : Toplam Eleman Sayısı\n",
    "##### dtype: Array veri tipi"
   ]
  },
  {
   "cell_type": "code",
   "execution_count": 46,
   "id": "68ea25c4-70fb-44af-a491-ad4a75768b58",
   "metadata": {},
   "outputs": [
    {
     "data": {
      "text/plain": [
       "array([5, 1, 5, 0, 4, 1, 5, 1, 3, 1])"
      ]
     },
     "execution_count": 46,
     "metadata": {},
     "output_type": "execute_result"
    }
   ],
   "source": [
    "np.random.randint(0, 6,10)\n",
    "#Ya da \n"
   ]
  },
  {
   "cell_type": "code",
   "execution_count": 48,
   "id": "b1253547-4f95-4178-af68-abed60b46563",
   "metadata": {},
   "outputs": [],
   "source": [
    "a = np.random.randint(10, size=5)"
   ]
  },
  {
   "cell_type": "code",
   "execution_count": 53,
   "id": "86f3c374-05b1-4671-8084-945b2e5440a8",
   "metadata": {},
   "outputs": [
    {
     "name": "stdout",
     "output_type": "stream",
     "text": [
      "1\n",
      "(5,)\n",
      "5\n",
      "int64\n"
     ]
    }
   ],
   "source": [
    "#\n",
    "print(a.ndim) #dimensions\n",
    "print(a.shape) #kaça kaç\n",
    "print(a.size) #Toplam eleman sayısı\n",
    "print(a.dtype) #Sakladığı veri tipi"
   ]
  },
  {
   "cell_type": "code",
   "execution_count": 59,
   "id": "f4664786-0d50-42e4-b172-69b4a5d5ca8a",
   "metadata": {},
   "outputs": [],
   "source": [
    "b = np.random.randint(10, size = (3,5))\n",
    "# c = np.full((3,3),10) #Farkı ne?"
   ]
  },
  {
   "cell_type": "code",
   "execution_count": 60,
   "id": "2da8779e-91d3-4744-9777-8445d4314320",
   "metadata": {},
   "outputs": [],
   "source": []
  },
  {
   "cell_type": "code",
   "execution_count": 62,
   "id": "4722ebfa-b393-42a6-838b-0ecfab01af2f",
   "metadata": {},
   "outputs": [
    {
     "name": "stdout",
     "output_type": "stream",
     "text": [
      "2\n",
      "(3, 5)\n",
      "15\n",
      "int64\n"
     ]
    }
   ],
   "source": [
    "print(b.ndim)\n",
    "print(b.shape)\n",
    "print(b.size)\n",
    "print(b.dtype)"
   ]
  },
  {
   "cell_type": "markdown",
   "id": "c39609d5-0353-48d4-87d7-d23fcc58dd62",
   "metadata": {},
   "source": [
    "# YENİDEN BOYUTLANDIRMA (ŞEKİLLENDİRME)"
   ]
  },
  {
   "cell_type": "code",
   "execution_count": 63,
   "id": "50c9de97-0dbc-4a73-a919-d198fd8d37d5",
   "metadata": {},
   "outputs": [],
   "source": [
    "a = np.arange(0,9)"
   ]
  },
  {
   "cell_type": "code",
   "execution_count": 64,
   "id": "d9499126-509d-4c50-a4b1-6692f43a7dd2",
   "metadata": {},
   "outputs": [
    {
     "data": {
      "text/plain": [
       "array([0, 1, 2, 3, 4, 5, 6, 7, 8])"
      ]
     },
     "execution_count": 64,
     "metadata": {},
     "output_type": "execute_result"
    }
   ],
   "source": [
    "a"
   ]
  },
  {
   "cell_type": "code",
   "execution_count": 67,
   "id": "ac428fb6-83f4-4711-a90b-f5889d746620",
   "metadata": {},
   "outputs": [],
   "source": [
    "b = a.reshape(3,3)"
   ]
  },
  {
   "cell_type": "code",
   "execution_count": 68,
   "id": "c58f3062-7300-4a7b-a0e0-4bd6220a0a67",
   "metadata": {},
   "outputs": [
    {
     "data": {
      "text/plain": [
       "array([[0, 1, 2],\n",
       "       [3, 4, 5],\n",
       "       [6, 7, 8]])"
      ]
     },
     "execution_count": 68,
     "metadata": {},
     "output_type": "execute_result"
    }
   ],
   "source": [
    "b"
   ]
  },
  {
   "cell_type": "code",
   "execution_count": 73,
   "id": "3d5da261-2071-4c24-a0d4-16a0449a99b5",
   "metadata": {},
   "outputs": [
    {
     "data": {
      "text/plain": [
       "array([0, 1, 2, 3, 4, 5, 6, 7, 8])"
      ]
     },
     "execution_count": 73,
     "metadata": {},
     "output_type": "execute_result"
    }
   ],
   "source": [
    "b.reshape(b.size)"
   ]
  },
  {
   "cell_type": "markdown",
   "id": "f3a7f2f0-a8dd-4e98-ad7b-48be7dbee033",
   "metadata": {},
   "source": [
    "# ARRAY BIRLESTIRME"
   ]
  },
  {
   "cell_type": "code",
   "execution_count": 77,
   "id": "c6dce9a3-8cec-41a8-b9bf-cfefc4b452ce",
   "metadata": {},
   "outputs": [],
   "source": [
    "a = np.array([1,2,3])\n",
    "b = np.array([4,5,6])\n",
    "c = np.array([7,8,9])"
   ]
  },
  {
   "cell_type": "code",
   "execution_count": 78,
   "id": "df2f792f-4ac4-4903-8184-fd59df3b38b3",
   "metadata": {},
   "outputs": [
    {
     "data": {
      "text/plain": [
       "array([1, 2, 3, 4, 5, 6])"
      ]
     },
     "execution_count": 78,
     "metadata": {},
     "output_type": "execute_result"
    }
   ],
   "source": [
    "np.concatenate([a,b])"
   ]
  },
  {
   "cell_type": "code",
   "execution_count": 79,
   "id": "d28a5e18-c426-425e-b8d2-837e9956cfda",
   "metadata": {},
   "outputs": [
    {
     "data": {
      "text/plain": [
       "array([1, 2, 3, 4, 5, 6, 7, 8, 9])"
      ]
     },
     "execution_count": 79,
     "metadata": {},
     "output_type": "execute_result"
    }
   ],
   "source": [
    "np.concatenate([a,b,c])"
   ]
  },
  {
   "cell_type": "code",
   "execution_count": 84,
   "id": "b85cdfda-b359-4c0c-a633-692dcc423b53",
   "metadata": {},
   "outputs": [],
   "source": [
    "d = np.array([[1,2,3],\n",
    "             [4,5,6]])"
   ]
  },
  {
   "cell_type": "code",
   "execution_count": 90,
   "id": "0d2a6d49-b39a-4f44-9719-87fd14b4eec1",
   "metadata": {},
   "outputs": [
    {
     "data": {
      "text/plain": [
       "array([[1, 2, 3, 1, 2, 3],\n",
       "       [4, 5, 6, 4, 5, 6]])"
      ]
     },
     "execution_count": 90,
     "metadata": {},
     "output_type": "execute_result"
    }
   ],
   "source": [
    "np.concatenate([d,d],axis=1) #0 satır, 1 sütun birleşirme"
   ]
  },
  {
   "cell_type": "markdown",
   "id": "3f52c81f-66de-42c5-a964-240cf56d2403",
   "metadata": {},
   "source": [
    "# ARRAY AYIRMA (SPLIT)\n",
    "\n",
    "##### YAPISI BİLİNEN ARRAYLER İÇİN"
   ]
  },
  {
   "cell_type": "code",
   "execution_count": 91,
   "id": "8c8e1082-1596-4067-8d99-92f95198b5ef",
   "metadata": {},
   "outputs": [],
   "source": [
    "x = np.array([1,2,3,4,5,6,7,8,9])"
   ]
  },
  {
   "cell_type": "code",
   "execution_count": 92,
   "id": "6c03b3d5-81b0-4bbc-a6ff-fce5655449a6",
   "metadata": {},
   "outputs": [
    {
     "data": {
      "text/plain": [
       "[array([1, 2, 3]), array([4, 5]), array([6, 7, 8, 9])]"
      ]
     },
     "execution_count": 92,
     "metadata": {},
     "output_type": "execute_result"
    }
   ],
   "source": [
    "np.split(x, [3,5])"
   ]
  },
  {
   "cell_type": "code",
   "execution_count": 93,
   "id": "4c0fba4d-6b3c-4c7f-ae5d-107432e5e6db",
   "metadata": {},
   "outputs": [],
   "source": [
    "a,b,c = np.split(x, [3,5])"
   ]
  },
  {
   "cell_type": "markdown",
   "id": "6bd36f09-4afe-439f-ba8c-6d17241ceedb",
   "metadata": {},
   "source": [
    "### İki boyutlu ayırma işlemi... "
   ]
  },
  {
   "cell_type": "code",
   "execution_count": 94,
   "id": "8ffb3906-69a5-4bd5-91ba-64a46f23855e",
   "metadata": {},
   "outputs": [],
   "source": [
    "m = np.arange(16).reshape(4,4)"
   ]
  },
  {
   "cell_type": "code",
   "execution_count": 95,
   "id": "c01c2097-e526-4ed9-bb86-a038a1acea79",
   "metadata": {},
   "outputs": [
    {
     "data": {
      "text/plain": [
       "array([[ 0,  1,  2,  3],\n",
       "       [ 4,  5,  6,  7],\n",
       "       [ 8,  9, 10, 11],\n",
       "       [12, 13, 14, 15]])"
      ]
     },
     "execution_count": 95,
     "metadata": {},
     "output_type": "execute_result"
    }
   ],
   "source": [
    "m"
   ]
  },
  {
   "cell_type": "code",
   "execution_count": 96,
   "id": "4c6081da-61c6-4b0f-ae9d-4b57a2f17682",
   "metadata": {},
   "outputs": [
    {
     "data": {
      "text/plain": [
       "[array([[0, 1, 2, 3],\n",
       "        [4, 5, 6, 7]]),\n",
       " array([[ 8,  9, 10, 11],\n",
       "        [12, 13, 14, 15]])]"
      ]
     },
     "execution_count": 96,
     "metadata": {},
     "output_type": "execute_result"
    }
   ],
   "source": [
    "np.vsplit(m, [2])"
   ]
  },
  {
   "cell_type": "code",
   "execution_count": 97,
   "id": "fe9c1f6b-5f44-4b06-806d-76b65b3d58ba",
   "metadata": {},
   "outputs": [
    {
     "data": {
      "text/plain": [
       "[array([[ 0,  1],\n",
       "        [ 4,  5],\n",
       "        [ 8,  9],\n",
       "        [12, 13]]),\n",
       " array([[ 2,  3],\n",
       "        [ 6,  7],\n",
       "        [10, 11],\n",
       "        [14, 15]])]"
      ]
     },
     "execution_count": 97,
     "metadata": {},
     "output_type": "execute_result"
    }
   ],
   "source": [
    "np.hsplit(m, [2])"
   ]
  },
  {
   "cell_type": "markdown",
   "id": "8d5ba10a-fc76-421e-a77d-d5b57c6b440b",
   "metadata": {},
   "source": [
    "# Array Sıralama"
   ]
  },
  {
   "cell_type": "code",
   "execution_count": 99,
   "id": "ef1c734a-bb89-469e-b6b5-e132fa3bd92c",
   "metadata": {},
   "outputs": [],
   "source": [
    "t = np.array([4,6,2,4,6,4,3,6,8,9,7,6])"
   ]
  },
  {
   "cell_type": "code",
   "execution_count": 100,
   "id": "02c484a2-f32f-4d7c-ba2b-529da091ae83",
   "metadata": {},
   "outputs": [
    {
     "data": {
      "text/plain": [
       "array([2, 3, 4, 4, 4, 6, 6, 6, 6, 7, 8, 9])"
      ]
     },
     "execution_count": 100,
     "metadata": {},
     "output_type": "execute_result"
    }
   ],
   "source": [
    "np.sort(t)"
   ]
  },
  {
   "cell_type": "markdown",
   "id": "cf3dea2d-d920-4dd0-97a9-7b48e77e0f69",
   "metadata": {},
   "source": [
    "### İki boyutlu array sıralama "
   ]
  },
  {
   "cell_type": "code",
   "execution_count": 110,
   "id": "c1e761bb-5f9f-4949-8284-b1ca9ae3dbb7",
   "metadata": {},
   "outputs": [
    {
     "data": {
      "text/plain": [
       "array([[98, 81, 19],\n",
       "       [37, 52, 36],\n",
       "       [28, 79, 74]])"
      ]
     },
     "execution_count": 110,
     "metadata": {},
     "output_type": "execute_result"
    }
   ],
   "source": [
    "v1= np.random.randint(1, 100, (3,3))\n",
    "v1"
   ]
  },
  {
   "cell_type": "code",
   "execution_count": 111,
   "id": "16bcdf53-9f02-46fd-b285-a353890ce19e",
   "metadata": {
    "collapsed": true,
    "jupyter": {
     "outputs_hidden": true
    }
   },
   "outputs": [
    {
     "data": {
      "text/plain": [
       "array([[0.        , 0.04166667, 0.08333333, 0.125     , 0.16666667],\n",
       "       [0.20833333, 0.25      , 0.29166667, 0.33333333, 0.375     ],\n",
       "       [0.41666667, 0.45833333, 0.5       , 0.54166667, 0.58333333],\n",
       "       [0.625     , 0.66666667, 0.70833333, 0.75      , 0.79166667],\n",
       "       [0.83333333, 0.875     , 0.91666667, 0.95833333, 1.        ]])"
      ]
     },
     "execution_count": 111,
     "metadata": {},
     "output_type": "execute_result"
    }
   ],
   "source": [
    "v2 = np.linspace(0,1, 25).reshape(5,5)\n",
    "v2"
   ]
  },
  {
   "cell_type": "code",
   "execution_count": 115,
   "id": "8637ef4c-e188-413a-bdd9-86cbb8116b18",
   "metadata": {},
   "outputs": [
    {
     "data": {
      "text/plain": [
       "array([[19, 81, 98],\n",
       "       [36, 37, 52],\n",
       "       [28, 74, 79]])"
      ]
     },
     "execution_count": 115,
     "metadata": {},
     "output_type": "execute_result"
    }
   ],
   "source": [
    "np.sort(v1, axis=1) # 0 Sütun, 1 satır"
   ]
  },
  {
   "cell_type": "markdown",
   "id": "b94b153e-9b53-47bf-a5e8-37df223d96bb",
   "metadata": {},
   "source": [
    "# INDEX ILE ERISIM"
   ]
  },
  {
   "cell_type": "code",
   "execution_count": 117,
   "id": "9eb80f28-4446-4088-9f0b-e3315ae96b4e",
   "metadata": {},
   "outputs": [
    {
     "data": {
      "text/plain": [
       "array([[5, 8, 4, 5, 0],\n",
       "       [0, 6, 7, 6, 7],\n",
       "       [1, 1, 1, 4, 2]])"
      ]
     },
     "execution_count": 117,
     "metadata": {},
     "output_type": "execute_result"
    }
   ],
   "source": [
    "m = np.random.randint(10, size=(3,5))\n",
    "m"
   ]
  },
  {
   "cell_type": "code",
   "execution_count": 120,
   "id": "6460742b-1023-4c8f-b792-40eeaa154dc7",
   "metadata": {},
   "outputs": [
    {
     "data": {
      "text/plain": [
       "array([[  5,   8, 100,   5,   0],\n",
       "       [  0,   6,   7,   6,   7],\n",
       "       [  1,   1,   1,   4,   2]])"
      ]
     },
     "execution_count": 120,
     "metadata": {},
     "output_type": "execute_result"
    }
   ],
   "source": [
    "m[0][2] = 100\n",
    "m"
   ]
  },
  {
   "cell_type": "code",
   "execution_count": 121,
   "id": "9d1967fd-1aa3-42ee-b44b-1301e0f1c3e8",
   "metadata": {},
   "outputs": [
    {
     "data": {
      "text/plain": [
       "array([[  5,   8, 150,   5,   0],\n",
       "       [  0,   6,   7,   6,   7],\n",
       "       [  1,   1,   1,   4,   2]])"
      ]
     },
     "execution_count": 121,
     "metadata": {},
     "output_type": "execute_result"
    }
   ],
   "source": [
    "m[0,2] = 150\n",
    "m"
   ]
  },
  {
   "cell_type": "markdown",
   "id": "469ea98c-bb11-4fe9-9def-4817393ba100",
   "metadata": {},
   "source": [
    "#### sabit tipli array lere farklı tipte veri eklemek istersek"
   ]
  },
  {
   "cell_type": "code",
   "execution_count": 122,
   "id": "4b3c9c63-ea98-469c-9780-edd47852d823",
   "metadata": {},
   "outputs": [
    {
     "data": {
      "text/plain": [
       "array([[  5,   8, 150,   5,   0],\n",
       "       [  0,   6,   7,   6,   7],\n",
       "       [  1,   1,   1,   4,   2]])"
      ]
     },
     "execution_count": 122,
     "metadata": {},
     "output_type": "execute_result"
    }
   ],
   "source": [
    "m"
   ]
  },
  {
   "cell_type": "code",
   "execution_count": 124,
   "id": "ff17e06f-09c0-4f99-b212-fc960fb53e91",
   "metadata": {},
   "outputs": [
    {
     "data": {
      "text/plain": [
       "array([[  5,   8, 150,   5,   0],\n",
       "       [  2,   6,   7,   6,   7],\n",
       "       [  1,   1,   1,   4,   2]])"
      ]
     },
     "execution_count": 124,
     "metadata": {},
     "output_type": "execute_result"
    }
   ],
   "source": [
    "m[1,0] = 2.3\n",
    "m\n",
    "# Bu şeklilde kabul etmez çünkü işin içinde sabit bit tip var..."
   ]
  },
  {
   "cell_type": "markdown",
   "id": "23027ad4-cb9e-4435-b592-2871a0d13b4b",
   "metadata": {},
   "source": [
    "# SLICING"
   ]
  },
  {
   "cell_type": "code",
   "execution_count": 127,
   "id": "17578045-d1d1-4727-abb9-c4bc5d1ebc8d",
   "metadata": {},
   "outputs": [
    {
     "data": {
      "text/plain": [
       "array([[  5,   8, 150,   5,   0]])"
      ]
     },
     "execution_count": 127,
     "metadata": {},
     "output_type": "execute_result"
    }
   ],
   "source": [
    "m[0:1:2]"
   ]
  },
  {
   "cell_type": "code",
   "execution_count": 132,
   "id": "845b42bd-5e34-4f45-9a3b-4bca86e48ea4",
   "metadata": {},
   "outputs": [
    {
     "data": {
      "text/plain": [
       "array([[31, 52, 14, 43],\n",
       "       [44, 73, 34, 27],\n",
       "       [87, 25, 13, 65],\n",
       "       [21, 92, 32, 16]])"
      ]
     },
     "execution_count": 132,
     "metadata": {},
     "output_type": "execute_result"
    }
   ],
   "source": [
    "d = np.random.randint(0,100, (4,4))\n",
    "d"
   ]
  },
  {
   "cell_type": "code",
   "execution_count": 135,
   "id": "e3f0c834-e89a-4a53-8acd-9c6183b53a99",
   "metadata": {},
   "outputs": [
    {
     "data": {
      "text/plain": [
       "array([[31, 52, 14, 43],\n",
       "       [87, 25, 13, 65]])"
      ]
     },
     "execution_count": 135,
     "metadata": {},
     "output_type": "execute_result"
    }
   ],
   "source": [
    "d[::2]"
   ]
  },
  {
   "cell_type": "code",
   "execution_count": 140,
   "id": "8be35ec0-eeba-4e70-8123-5c9bdc1daf37",
   "metadata": {},
   "outputs": [
    {
     "data": {
      "text/plain": [
       "array([ 3, 12, 18, 46, 71, 14,  1, 10, 63, 17])"
      ]
     },
     "execution_count": 140,
     "metadata": {},
     "output_type": "execute_result"
    }
   ],
   "source": [
    "g = np.random.randint(1,100, size = 10)\n",
    "g"
   ]
  },
  {
   "cell_type": "code",
   "execution_count": 141,
   "id": "3af60172-b33d-4998-89c2-c1a74082d64f",
   "metadata": {},
   "outputs": [
    {
     "data": {
      "text/plain": [
       "array([17, 63, 10,  1, 14, 71, 46, 18, 12,  3])"
      ]
     },
     "execution_count": 141,
     "metadata": {},
     "output_type": "execute_result"
    }
   ],
   "source": [
    "g[::-1]"
   ]
  },
  {
   "cell_type": "code",
   "execution_count": 144,
   "id": "103c734f-bf43-47c4-8de2-58e530e58b00",
   "metadata": {},
   "outputs": [
    {
     "data": {
      "text/plain": [
       "array([[61, 34, 32, 63, 69],\n",
       "       [19, 32,  9, 74, 68],\n",
       "       [65,  5, 70, 31, 49],\n",
       "       [41, 37, 43, 15, 41],\n",
       "       [80, 42, 96, 56, 88]])"
      ]
     },
     "execution_count": 144,
     "metadata": {},
     "output_type": "execute_result"
    }
   ],
   "source": [
    "y = np.random.randint(0,100, size=(5,5))\n",
    "y"
   ]
  },
  {
   "cell_type": "code",
   "execution_count": 146,
   "id": "495ef93d-3c88-4acc-909a-b3315de79302",
   "metadata": {},
   "outputs": [
    {
     "data": {
      "text/plain": [
       "array([[61, 34],\n",
       "       [19, 32],\n",
       "       [65,  5],\n",
       "       [41, 37],\n",
       "       [80, 42]])"
      ]
     },
     "execution_count": 146,
     "metadata": {},
     "output_type": "execute_result"
    }
   ],
   "source": [
    "y[:,:2] #[satır, sütun]"
   ]
  },
  {
   "cell_type": "code",
   "execution_count": 148,
   "id": "f913239e-ca89-4765-ac60-9080c0503f8f",
   "metadata": {},
   "outputs": [
    {
     "data": {
      "text/plain": [
       "array([[69, 63, 32, 34, 61]])"
      ]
     },
     "execution_count": 148,
     "metadata": {},
     "output_type": "execute_result"
    }
   ],
   "source": [
    "y[0:1,::-1]"
   ]
  },
  {
   "cell_type": "code",
   "execution_count": 151,
   "id": "5bb83e9c-0312-4195-96a7-6cac3ba9a681",
   "metadata": {},
   "outputs": [
    {
     "data": {
      "text/plain": [
       "array([68, 74,  9, 32, 19])"
      ]
     },
     "execution_count": 151,
     "metadata": {},
     "output_type": "execute_result"
    }
   ],
   "source": [
    "y[1,::-1]"
   ]
  },
  {
   "cell_type": "code",
   "execution_count": 152,
   "id": "2215decc-9981-4e15-9f2c-4715510c436d",
   "metadata": {},
   "outputs": [
    {
     "data": {
      "text/plain": [
       "array([[69, 63, 32, 34, 61],\n",
       "       [68, 74,  9, 32, 19]])"
      ]
     },
     "execution_count": 152,
     "metadata": {},
     "output_type": "execute_result"
    }
   ],
   "source": [
    "y[0:2,::-1]"
   ]
  },
  {
   "cell_type": "markdown",
   "id": "717390ef-0fe7-4c71-9469-c70a24413598",
   "metadata": {},
   "source": [
    "# ALT KUMELERDE ISLEM YAPARKEN"
   ]
  },
  {
   "cell_type": "code",
   "execution_count": 153,
   "id": "cd195745-7eec-4f33-9d76-6329785fdf81",
   "metadata": {},
   "outputs": [
    {
     "data": {
      "text/plain": [
       "array([[85, 53, 50, 51, 82],\n",
       "       [64, 17, 26, 80,  5],\n",
       "       [18, 66, 76, 67, 43],\n",
       "       [33, 73,  4,  9, 75],\n",
       "       [90,  3, 43,  7, 54]])"
      ]
     },
     "execution_count": 153,
     "metadata": {},
     "output_type": "execute_result"
    }
   ],
   "source": [
    "a = np.random.randint(100, size=(5,5))\n",
    "a"
   ]
  },
  {
   "cell_type": "code",
   "execution_count": 155,
   "id": "c71472c7-6dcb-4731-bce3-217665a8e908",
   "metadata": {},
   "outputs": [
    {
     "data": {
      "text/plain": [
       "array([[53, 50, 51],\n",
       "       [17, 26, 80],\n",
       "       [66, 76, 67]])"
      ]
     },
     "execution_count": 155,
     "metadata": {},
     "output_type": "execute_result"
    }
   ],
   "source": [
    "b = a[0:3,1:4]\n",
    "b"
   ]
  },
  {
   "cell_type": "code",
   "execution_count": 156,
   "id": "8897d348-29ed-4b5c-8d39-d3fb1df10bc4",
   "metadata": {},
   "outputs": [],
   "source": [
    "b[0,0] = 9999\n",
    "b [1,1] = 8888"
   ]
  },
  {
   "cell_type": "code",
   "execution_count": 157,
   "id": "b0a19b5c-b4a0-4f5d-926c-05690945a72c",
   "metadata": {},
   "outputs": [
    {
     "data": {
      "text/plain": [
       "array([[9999,   50,   51],\n",
       "       [  17, 8888,   80],\n",
       "       [  66,   76,   67]])"
      ]
     },
     "execution_count": 157,
     "metadata": {},
     "output_type": "execute_result"
    }
   ],
   "source": [
    "b"
   ]
  },
  {
   "cell_type": "code",
   "execution_count": 158,
   "id": "1149cc87-b33a-46ee-9773-7953d316a5b4",
   "metadata": {},
   "outputs": [
    {
     "data": {
      "text/plain": [
       "array([[  85, 9999,   50,   51,   82],\n",
       "       [  64,   17, 8888,   80,    5],\n",
       "       [  18,   66,   76,   67,   43],\n",
       "       [  33,   73,    4,    9,   75],\n",
       "       [  90,    3,   43,    7,   54]])"
      ]
     },
     "execution_count": 158,
     "metadata": {},
     "output_type": "execute_result"
    }
   ],
   "source": [
    "a"
   ]
  },
  {
   "cell_type": "code",
   "execution_count": 160,
   "id": "f49b2bba-7c79-41f7-bfd5-75dcff32dc27",
   "metadata": {},
   "outputs": [
    {
     "data": {
      "text/plain": [
       "array([[19, 40, 96, 35, 92],\n",
       "       [31, 17, 28, 49, 99],\n",
       "       [87, 83, 44, 37, 11],\n",
       "       [97, 73, 69, 35, 44],\n",
       "       [52, 74, 55, 51, 30]])"
      ]
     },
     "execution_count": 160,
     "metadata": {},
     "output_type": "execute_result"
    }
   ],
   "source": [
    "a = np.random.randint(100, size=(5,5))\n",
    "a"
   ]
  },
  {
   "cell_type": "code",
   "execution_count": 161,
   "id": "016611ef-4e75-4eff-a44c-c360c10917a2",
   "metadata": {},
   "outputs": [
    {
     "data": {
      "text/plain": [
       "array([[40, 96, 35],\n",
       "       [17, 28, 49],\n",
       "       [83, 44, 37]])"
      ]
     },
     "execution_count": 161,
     "metadata": {},
     "output_type": "execute_result"
    }
   ],
   "source": [
    "b = a[0:3,1:4].copy()\n",
    "b"
   ]
  },
  {
   "cell_type": "code",
   "execution_count": 162,
   "id": "7ab2e2d1-ea9b-4e1a-a49e-4e2604df385b",
   "metadata": {},
   "outputs": [],
   "source": [
    "b[0,0] = 77777"
   ]
  },
  {
   "cell_type": "code",
   "execution_count": 163,
   "id": "1d494571-6850-4cd1-8d61-1e63d3d9d5d1",
   "metadata": {},
   "outputs": [
    {
     "data": {
      "text/plain": [
       "array([[19, 40, 96, 35, 92],\n",
       "       [31, 17, 28, 49, 99],\n",
       "       [87, 83, 44, 37, 11],\n",
       "       [97, 73, 69, 35, 44],\n",
       "       [52, 74, 55, 51, 30]])"
      ]
     },
     "execution_count": 163,
     "metadata": {},
     "output_type": "execute_result"
    }
   ],
   "source": [
    "a"
   ]
  },
  {
   "cell_type": "code",
   "execution_count": 164,
   "id": "2ccb6a69-573c-41c5-b6e8-5a5a8bb4b08f",
   "metadata": {},
   "outputs": [
    {
     "data": {
      "text/plain": [
       "array([[77777,    96,    35],\n",
       "       [   17,    28,    49],\n",
       "       [   83,    44,    37]])"
      ]
     },
     "execution_count": 164,
     "metadata": {},
     "output_type": "execute_result"
    }
   ],
   "source": [
    "b"
   ]
  },
  {
   "cell_type": "markdown",
   "id": "b227e435-2c3c-48d5-a653-3b9109b825c4",
   "metadata": {},
   "source": [
    "# HAVALI INDEX (FANCY) "
   ]
  },
  {
   "cell_type": "markdown",
   "id": "de8ecabf-eafc-4a18-8adf-9b9539149dca",
   "metadata": {},
   "source": [
    "##### Olayı, listenin içinden listedeki elemanları getirmek... :)"
   ]
  },
  {
   "cell_type": "code",
   "execution_count": 169,
   "id": "8e094655-d1a0-4fd9-b253-e65c1644bcd4",
   "metadata": {},
   "outputs": [
    {
     "data": {
      "text/plain": [
       "array([ 90,  37,  69,  51,  34,  50,  70,  90,  11,  24,  65,  90,  90,\n",
       "        26,  55,  22,  91,  76,  43,  59,   9,   6,  74,  25,  69,  85,\n",
       "        21,  65,  51,  58,  20,  41,  39,  77,  34,  28,  84,  13,  22,\n",
       "         7,   7,  97,  53, 100,   7,   1,   6,  82,  54,  27,  21,  95,\n",
       "         8,  96,  87,   2,  30,   8,  22,  78,  50,  59,   4,  73,   8,\n",
       "        61,  61,  12,  49,  76])"
      ]
     },
     "execution_count": 169,
     "metadata": {},
     "output_type": "execute_result"
    }
   ],
   "source": [
    "a = np.random.randint(101, size=70)\n",
    "a"
   ]
  },
  {
   "cell_type": "code",
   "execution_count": 171,
   "id": "d9e94bbf-4b42-4760-99b6-0a25f38e7ced",
   "metadata": {},
   "outputs": [
    {
     "data": {
      "text/plain": [
       "array([50, 70, 11, 24, 90, 85, 84, 54])"
      ]
     },
     "execution_count": 171,
     "metadata": {},
     "output_type": "execute_result"
    }
   ],
   "source": [
    "idxs = [5,6,8,9,12,25,36,48]\n",
    "a[idxs]"
   ]
  },
  {
   "cell_type": "markdown",
   "id": "f2737813-c995-44b4-98a7-21b791d61c43",
   "metadata": {},
   "source": [
    "### IKI BOYUTTA FANCY INDEX"
   ]
  },
  {
   "cell_type": "code",
   "execution_count": 174,
   "id": "f99cf9cc-c667-46ba-adb2-585ba84eb8fb",
   "metadata": {},
   "outputs": [
    {
     "data": {
      "text/plain": [
       "array([[  7, 159, 186, ...,  41, 140, 150],\n",
       "       [132,  87, 216, ..., 223,  78, 132],\n",
       "       [ 41, 180, 102, ..., 232, 142, 140],\n",
       "       ...,\n",
       "       [  9, 136,  72, ..., 196,  75, 176],\n",
       "       [  1, 102,  18, ...,  30,  75,  44],\n",
       "       [ 39, 133, 106, ..., 124, 135, 122]])"
      ]
     },
     "execution_count": 174,
     "metadata": {},
     "output_type": "execute_result"
    }
   ],
   "source": [
    "f = np.random.randint(255, size=(640,400))\n",
    "f"
   ]
  },
  {
   "cell_type": "code",
   "execution_count": 175,
   "id": "bf95ec2a-d55e-4b59-bf65-603214dec3ce",
   "metadata": {},
   "outputs": [
    {
     "data": {
      "text/plain": [
       "array([249,   7,  97])"
      ]
     },
     "execution_count": 175,
     "metadata": {},
     "output_type": "execute_result"
    }
   ],
   "source": [
    "satir = [5,6,9]\n",
    "sutun = [6,75,8]\n",
    "f[satir, sutun]"
   ]
  },
  {
   "cell_type": "markdown",
   "id": "06f14851-730c-46d7-a585-7f3a05ecce5d",
   "metadata": {},
   "source": [
    "# KOSULLU ELEMAN İŞLEMLERİ"
   ]
  },
  {
   "cell_type": "code",
   "execution_count": 178,
   "id": "eec2f215-eef1-4125-9067-5a5c6ed251db",
   "metadata": {},
   "outputs": [
    {
     "data": {
      "text/plain": [
       "array([0, 2, 0, 3, 0])"
      ]
     },
     "execution_count": 178,
     "metadata": {},
     "output_type": "execute_result"
    }
   ],
   "source": [
    "s = np.random.randint(5, size=5)\n",
    "s"
   ]
  },
  {
   "cell_type": "code",
   "execution_count": 179,
   "id": "955e2663-ef5e-400b-ac3a-f871a5d7780d",
   "metadata": {},
   "outputs": [
    {
     "data": {
      "text/plain": [
       "array([False, False, False,  True, False])"
      ]
     },
     "execution_count": 179,
     "metadata": {},
     "output_type": "execute_result"
    }
   ],
   "source": [
    "s > 2"
   ]
  },
  {
   "cell_type": "code",
   "execution_count": 180,
   "id": "878684d9-919f-4fd0-85b0-9678da92dc5d",
   "metadata": {},
   "outputs": [
    {
     "data": {
      "text/plain": [
       "array([3])"
      ]
     },
     "execution_count": 180,
     "metadata": {},
     "output_type": "execute_result"
    }
   ],
   "source": [
    "s [s > 2]"
   ]
  },
  {
   "cell_type": "markdown",
   "id": "fa7bb87b-0a81-4683-ab84-45c305e6e3e2",
   "metadata": {},
   "source": [
    "# MATEMATİKSEL İŞLEMLER \n",
    "\n",
    "### Ikı yolu var\n",
    "##### Mat operatorler\n",
    "##### ufunc işlemleri"
   ]
  },
  {
   "cell_type": "code",
   "execution_count": 181,
   "id": "c378f5d7-14b4-41e3-ade6-97a78c36797e",
   "metadata": {},
   "outputs": [
    {
     "data": {
      "text/plain": [
       "array([34,  5, 97, 55, 70])"
      ]
     },
     "execution_count": 181,
     "metadata": {},
     "output_type": "execute_result"
    }
   ],
   "source": [
    "v = np.random.randint(0,100, size=5)\n",
    "v"
   ]
  },
  {
   "cell_type": "code",
   "execution_count": 182,
   "id": "93f6a641-022c-4879-832e-9965a92aa8b3",
   "metadata": {},
   "outputs": [
    {
     "data": {
      "text/plain": [
       "array([33,  4, 96, 54, 69])"
      ]
     },
     "execution_count": 182,
     "metadata": {},
     "output_type": "execute_result"
    }
   ],
   "source": [
    "v - 1"
   ]
  },
  {
   "cell_type": "code",
   "execution_count": 183,
   "id": "40a7cacb-4d0f-4c75-ad89-1b350cf1db68",
   "metadata": {},
   "outputs": [
    {
     "data": {
      "text/plain": [
       "array([ 6.8,  1. , 19.4, 11. , 14. ])"
      ]
     },
     "execution_count": 183,
     "metadata": {},
     "output_type": "execute_result"
    }
   ],
   "source": [
    "v /5"
   ]
  },
  {
   "cell_type": "code",
   "execution_count": 184,
   "id": "08d14b58-de43-4ecf-91c9-0fc389cac83e",
   "metadata": {},
   "outputs": [
    {
     "data": {
      "text/plain": [
       "array([31,  2, 94, 52, 67])"
      ]
     },
     "execution_count": 184,
     "metadata": {},
     "output_type": "execute_result"
    }
   ],
   "source": [
    "# ufunc \n",
    "np.subtract(v, 3)"
   ]
  },
  {
   "cell_type": "code",
   "execution_count": 186,
   "id": "dcbff217-0aaf-466e-8744-1e462063be78",
   "metadata": {},
   "outputs": [],
   "source": [
    "# np.add, np.multiply, np.divide, np.power, np.mod, np.absolute"
   ]
  },
  {
   "cell_type": "code",
   "execution_count": 187,
   "id": "94e2eac2-0b00-404d-a859-195542fd5e9c",
   "metadata": {},
   "outputs": [],
   "source": [
    "# np.cos, np.sin, np.logX"
   ]
  },
  {
   "cell_type": "code",
   "execution_count": 190,
   "id": "9e9269f3-a9b9-4a2f-a7ed-470d48098807",
   "metadata": {},
   "outputs": [],
   "source": [
    "# cheat sheet -> Kopya Kağıdı\n",
    "# Numpy Mathematics cheat Sheet"
   ]
  },
  {
   "cell_type": "markdown",
   "id": "91557aed-8b72-4287-88c9-cd13e06cf4ab",
   "metadata": {},
   "source": [
    "# Istatistiksel Hesaplamalar"
   ]
  },
  {
   "cell_type": "code",
   "execution_count": 191,
   "id": "49ece373-6382-4f6f-8c4f-87b4fa4a4fe7",
   "metadata": {},
   "outputs": [
    {
     "data": {
      "text/plain": [
       "np.float64(31.2755495555234)"
      ]
     },
     "execution_count": 191,
     "metadata": {},
     "output_type": "execute_result"
    }
   ],
   "source": [
    "v.std()"
   ]
  },
  {
   "cell_type": "code",
   "execution_count": 192,
   "id": "4ce4793e-b419-4f31-ad7b-5c39819b1088",
   "metadata": {},
   "outputs": [
    {
     "data": {
      "text/plain": [
       "np.float64(52.2)"
      ]
     },
     "execution_count": 192,
     "metadata": {},
     "output_type": "execute_result"
    }
   ],
   "source": [
    "v.mean()"
   ]
  },
  {
   "cell_type": "code",
   "execution_count": 193,
   "id": "06958032-9d87-40b3-9410-2924c3a7a966",
   "metadata": {},
   "outputs": [
    {
     "data": {
      "text/plain": [
       "np.float64(978.1600000000001)"
      ]
     },
     "execution_count": 193,
     "metadata": {},
     "output_type": "execute_result"
    }
   ],
   "source": [
    "v.var()"
   ]
  },
  {
   "cell_type": "code",
   "execution_count": 194,
   "id": "0edc3bd9-00e0-456c-bb2c-bba04a55fe0c",
   "metadata": {},
   "outputs": [
    {
     "data": {
      "text/plain": [
       "np.int64(261)"
      ]
     },
     "execution_count": 194,
     "metadata": {},
     "output_type": "execute_result"
    }
   ],
   "source": [
    "v.sum()"
   ]
  },
  {
   "cell_type": "code",
   "execution_count": 195,
   "id": "a8e28faa-349c-44fb-9459-005d5f89b3fa",
   "metadata": {},
   "outputs": [
    {
     "data": {
      "text/plain": [
       "np.int64(5)"
      ]
     },
     "execution_count": 195,
     "metadata": {},
     "output_type": "execute_result"
    }
   ],
   "source": [
    "v.min()"
   ]
  },
  {
   "cell_type": "code",
   "execution_count": 196,
   "id": "8dc0b0e4-cd03-4cf9-b666-810fd6b5ec75",
   "metadata": {},
   "outputs": [
    {
     "data": {
      "text/plain": [
       "np.int64(97)"
      ]
     },
     "execution_count": 196,
     "metadata": {},
     "output_type": "execute_result"
    }
   ],
   "source": [
    "v.max()"
   ]
  },
  {
   "cell_type": "markdown",
   "id": "5965ba1f-6dcd-46ac-a07d-f8cb06bcc90d",
   "metadata": {},
   "source": [
    "# NUMPY ILE IKI BILINMEYENLI DENKLER COZUMU\n",
    "\n",
    "##### x+y = 11\n",
    "##### 2x+5y = 34"
   ]
  },
  {
   "cell_type": "code",
   "execution_count": 198,
   "id": "60eacef8-8785-4786-8cb0-9882b51e2087",
   "metadata": {},
   "outputs": [],
   "source": [
    "a = np.array([[1,1],[2,5]])\n",
    "b = np.array([11,34])"
   ]
  },
  {
   "cell_type": "code",
   "execution_count": 199,
   "id": "e8340370-6608-406e-bbcb-1780503e175c",
   "metadata": {},
   "outputs": [],
   "source": [
    "sonuc = np.linalg.solve(a,b)"
   ]
  },
  {
   "cell_type": "code",
   "execution_count": 200,
   "id": "a039bde9-c6d8-451d-aa69-fe82177a0149",
   "metadata": {},
   "outputs": [
    {
     "data": {
      "text/plain": [
       "array([7., 4.])"
      ]
     },
     "execution_count": 200,
     "metadata": {},
     "output_type": "execute_result"
    }
   ],
   "source": [
    "sonuc"
   ]
  },
  {
   "cell_type": "code",
   "execution_count": null,
   "id": "b729f60f-84ce-47c3-b430-7bdcd13366a1",
   "metadata": {},
   "outputs": [],
   "source": []
  },
  {
   "cell_type": "code",
   "execution_count": null,
   "id": "c6122ddb-18f9-49f1-9cae-34f4033ff19b",
   "metadata": {},
   "outputs": [],
   "source": []
  }
 ],
 "metadata": {
  "kernelspec": {
   "display_name": "Python 3 (ipykernel)",
   "language": "python",
   "name": "python3"
  },
  "language_info": {
   "codemirror_mode": {
    "name": "ipython",
    "version": 3
   },
   "file_extension": ".py",
   "mimetype": "text/x-python",
   "name": "python",
   "nbconvert_exporter": "python",
   "pygments_lexer": "ipython3",
   "version": "3.11.5"
  }
 },
 "nbformat": 4,
 "nbformat_minor": 5
}
