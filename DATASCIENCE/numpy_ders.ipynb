{
 "cells": [
  {
   "cell_type": "code",
   "execution_count": null,
   "id": "45299488-5649-44ad-aaaa-62cefeacb4ba",
   "metadata": {},
   "outputs": [],
   "source": [
    "import numpy as np"
   ]
  },
  {
   "cell_type": "markdown",
   "id": "8f78e4fb-6409-4a42-8884-11d9492fce2d",
   "metadata": {},
   "source": [
    "Bir veri tipi dir... "
   ]
  },
  {
   "cell_type": "code",
   "execution_count": null,
   "id": "1a93594b-f223-4b3d-9b4f-376efdcf8892",
   "metadata": {},
   "outputs": [],
   "source": []
  },
  {
   "cell_type": "code",
   "execution_count": null,
   "id": "e20081d9-878d-4703-8df2-1ca53348c2c4",
   "metadata": {},
   "outputs": [],
   "source": [
    "np.array([1,5,2,3,6])"
   ]
  },
  {
   "cell_type": "code",
   "execution_count": null,
   "id": "f265e69a-f05c-4327-89bc-f11bbb85786b",
   "metadata": {},
   "outputs": [],
   "source": [
    "arr = np.array([1,5,2,3,6])"
   ]
  },
  {
   "cell_type": "code",
   "execution_count": null,
   "id": "00944386-8ef7-4652-8835-111bc85cf81c",
   "metadata": {},
   "outputs": [],
   "source": [
    "type(arr)"
   ]
  },
  {
   "cell_type": "code",
   "execution_count": null,
   "id": "332d8a40-c8f9-4753-a360-4ad1aee2c062",
   "metadata": {},
   "outputs": [],
   "source": [
    "np.array([3.14, 5,6,2],dtype=\"int\")"
   ]
  },
  {
   "cell_type": "code",
   "execution_count": null,
   "id": "01806e90-c071-42ec-b00c-9e7af22acf1e",
   "metadata": {},
   "outputs": [],
   "source": [
    "#Sıfırdan array oluşturma"
   ]
  },
  {
   "cell_type": "code",
   "execution_count": null,
   "id": "1007e176-97e2-4da2-9d1d-b13b96654134",
   "metadata": {},
   "outputs": [],
   "source": [
    "np.zeros(10, dtype=\"int\")"
   ]
  },
  {
   "cell_type": "code",
   "execution_count": null,
   "id": "8a49efc8-fe98-4c8e-9468-12440ba5b974",
   "metadata": {},
   "outputs": [],
   "source": [
    "np.ones(10)"
   ]
  },
  {
   "cell_type": "code",
   "execution_count": null,
   "id": "c8fb6067-413f-4f4a-b737-d8315ba2ec7a",
   "metadata": {},
   "outputs": [],
   "source": [
    "np.ones((3,5))"
   ]
  },
  {
   "cell_type": "code",
   "execution_count": null,
   "id": "4c15704c-7160-4220-9ce2-c13e91f0b463",
   "metadata": {},
   "outputs": [],
   "source": [
    "np.ones((3,5,3))"
   ]
  },
  {
   "cell_type": "code",
   "execution_count": null,
   "id": "40de230a-aaec-416e-88a2-99fd71ab1864",
   "metadata": {},
   "outputs": [],
   "source": [
    "#Belirli sayılardan oluşan bir array için "
   ]
  },
  {
   "cell_type": "code",
   "execution_count": null,
   "id": "ea00c234-25ec-4d77-ab1a-0cc4e8ed5920",
   "metadata": {},
   "outputs": [],
   "source": [
    "# saedce 10 değerini içeren bir 3x3 matris\n",
    "np.full((3,3), 10)"
   ]
  },
  {
   "cell_type": "code",
   "execution_count": null,
   "id": "a6a1b7ed-868a-4f3e-9914-70bb80d287b3",
   "metadata": {},
   "outputs": [],
   "source": [
    "#Belirli aralıkta atlamalı sayı dizisi"
   ]
  },
  {
   "cell_type": "code",
   "execution_count": null,
   "id": "76e51333-2f77-451f-929d-927f5ebb76b3",
   "metadata": {},
   "outputs": [],
   "source": [
    "np.arange(0,11,2)"
   ]
  },
  {
   "cell_type": "code",
   "execution_count": null,
   "id": "0128da2a-2671-4ec9-afc8-e8b0719c01e3",
   "metadata": {},
   "outputs": [],
   "source": [
    "#Belirli aralığı adet e bölecek şekilde dilimle"
   ]
  },
  {
   "cell_type": "code",
   "execution_count": null,
   "id": "1b3529c7-4314-41fb-aa78-d3e9648beb55",
   "metadata": {},
   "outputs": [],
   "source": [
    "np.linspace(0,1,10)"
   ]
  },
  {
   "cell_type": "markdown",
   "id": "fc05a904-2083-4273-8b58-c72fecd9d2e7",
   "metadata": {},
   "source": [
    "#İstediğimiz bir ortalama değer ve std sapmaya sahip bir dizi de oluşturulabilir"
   ]
  },
  {
   "cell_type": "code",
   "execution_count": null,
   "id": "873df27e-0703-42b8-bb47-f695b904b569",
   "metadata": {},
   "outputs": [],
   "source": [
    "a = np.arange(0,11,1)"
   ]
  },
  {
   "cell_type": "code",
   "execution_count": null,
   "id": "eb08b32e-69fe-4e91-8242-4a566bd8625e",
   "metadata": {},
   "outputs": [],
   "source": [
    "a.std()"
   ]
  },
  {
   "cell_type": "code",
   "execution_count": null,
   "id": "006e9d09-a8f3-4980-83f2-fe318ef00ca3",
   "metadata": {},
   "outputs": [],
   "source": [
    "a.mean()"
   ]
  },
  {
   "cell_type": "code",
   "execution_count": null,
   "id": "2375659d-f6b1-43e0-bed2-84046876a637",
   "metadata": {},
   "outputs": [],
   "source": [
    "#rastgele sayılardan oluşan 3x3 lük array\n",
    "np.random.randint(0,10, (3,3))"
   ]
  },
  {
   "cell_type": "markdown",
   "id": "b4ed02d7-4ea5-4588-87c3-f39adbd73d0b",
   "metadata": {},
   "source": [
    "# **NUMPY** _ARRAY_ OZELLİKLERİ\n",
    "\n",
    "##### ndim : Boyut Sayısı\n",
    "##### shape: Boyut Bilgisi\n",
    "##### size : Toplam Eleman Sayısı\n",
    "##### dtype: Array veri tipi"
   ]
  },
  {
   "cell_type": "code",
   "execution_count": null,
   "id": "68ea25c4-70fb-44af-a491-ad4a75768b58",
   "metadata": {},
   "outputs": [],
   "source": [
    "np.random.randint(0, 6,10)\n",
    "#Ya da \n"
   ]
  },
  {
   "cell_type": "code",
   "execution_count": null,
   "id": "b1253547-4f95-4178-af68-abed60b46563",
   "metadata": {},
   "outputs": [],
   "source": [
    "a = np.random.randint(10, size=5)"
   ]
  },
  {
   "cell_type": "code",
   "execution_count": null,
   "id": "86f3c374-05b1-4671-8084-945b2e5440a8",
   "metadata": {},
   "outputs": [],
   "source": [
    "#\n",
    "print(a.ndim) #dimensions\n",
    "print(a.shape) #kaça kaç\n",
    "print(a.size) #Toplam eleman sayısı\n",
    "print(a.dtype) #Sakladığı veri tipi"
   ]
  },
  {
   "cell_type": "code",
   "execution_count": null,
   "id": "f4664786-0d50-42e4-b172-69b4a5d5ca8a",
   "metadata": {},
   "outputs": [],
   "source": [
    "b = np.random.randint(10, size = (3,5))\n",
    "# c = np.full((3,3),10) #Farkı ne?"
   ]
  },
  {
   "cell_type": "code",
   "execution_count": null,
   "id": "2da8779e-91d3-4744-9777-8445d4314320",
   "metadata": {},
   "outputs": [],
   "source": []
  },
  {
   "cell_type": "code",
   "execution_count": null,
   "id": "4722ebfa-b393-42a6-838b-0ecfab01af2f",
   "metadata": {},
   "outputs": [],
   "source": [
    "print(b.ndim)\n",
    "print(b.shape)\n",
    "print(b.size)\n",
    "print(b.dtype)"
   ]
  },
  {
   "cell_type": "markdown",
   "id": "c39609d5-0353-48d4-87d7-d23fcc58dd62",
   "metadata": {},
   "source": [
    "# YENİDEN BOYUTLANDIRMA (ŞEKİLLENDİRME)"
   ]
  },
  {
   "cell_type": "code",
   "execution_count": null,
   "id": "50c9de97-0dbc-4a73-a919-d198fd8d37d5",
   "metadata": {},
   "outputs": [],
   "source": [
    "a = np.arange(0,9)"
   ]
  },
  {
   "cell_type": "code",
   "execution_count": null,
   "id": "d9499126-509d-4c50-a4b1-6692f43a7dd2",
   "metadata": {},
   "outputs": [],
   "source": [
    "a"
   ]
  },
  {
   "cell_type": "code",
   "execution_count": null,
   "id": "ac428fb6-83f4-4711-a90b-f5889d746620",
   "metadata": {},
   "outputs": [],
   "source": [
    "b = a.reshape(3,3)"
   ]
  },
  {
   "cell_type": "code",
   "execution_count": null,
   "id": "c58f3062-7300-4a7b-a0e0-4bd6220a0a67",
   "metadata": {},
   "outputs": [],
   "source": [
    "b"
   ]
  },
  {
   "cell_type": "code",
   "execution_count": null,
   "id": "3d5da261-2071-4c24-a0d4-16a0449a99b5",
   "metadata": {},
   "outputs": [],
   "source": [
    "b.reshape(b.size)"
   ]
  },
  {
   "cell_type": "markdown",
   "id": "f3a7f2f0-a8dd-4e98-ad7b-48be7dbee033",
   "metadata": {},
   "source": [
    "# ARRAY BIRLESTIRME"
   ]
  },
  {
   "cell_type": "code",
   "execution_count": null,
   "id": "c6dce9a3-8cec-41a8-b9bf-cfefc4b452ce",
   "metadata": {},
   "outputs": [],
   "source": [
    "a = np.array([1,2,3])\n",
    "b = np.array([4,5,6])\n",
    "c = np.array([7,8,9])"
   ]
  },
  {
   "cell_type": "code",
   "execution_count": null,
   "id": "df2f792f-4ac4-4903-8184-fd59df3b38b3",
   "metadata": {},
   "outputs": [],
   "source": [
    "np.concatenate([a,b])"
   ]
  },
  {
   "cell_type": "code",
   "execution_count": null,
   "id": "d28a5e18-c426-425e-b8d2-837e9956cfda",
   "metadata": {},
   "outputs": [],
   "source": [
    "np.concatenate([a,b,c])"
   ]
  },
  {
   "cell_type": "code",
   "execution_count": null,
   "id": "b85cdfda-b359-4c0c-a633-692dcc423b53",
   "metadata": {},
   "outputs": [],
   "source": [
    "d = np.array([[1,2,3],\n",
    "             [4,5,6]])"
   ]
  },
  {
   "cell_type": "code",
   "execution_count": null,
   "id": "0d2a6d49-b39a-4f44-9719-87fd14b4eec1",
   "metadata": {},
   "outputs": [],
   "source": [
    "np.concatenate([d,d],axis=1) #0 satır, 1 sütun birleşirme"
   ]
  },
  {
   "cell_type": "markdown",
   "id": "3f52c81f-66de-42c5-a964-240cf56d2403",
   "metadata": {},
   "source": [
    "# ARRAY AYIRMA (SPLIT)\n",
    "\n",
    "##### YAPISI BİLİNEN ARRAYLER İÇİN"
   ]
  },
  {
   "cell_type": "code",
   "execution_count": null,
   "id": "8c8e1082-1596-4067-8d99-92f95198b5ef",
   "metadata": {},
   "outputs": [],
   "source": [
    "x = np.array([1,2,3,4,5,6,7,8,9])"
   ]
  },
  {
   "cell_type": "code",
   "execution_count": null,
   "id": "6c03b3d5-81b0-4bbc-a6ff-fce5655449a6",
   "metadata": {},
   "outputs": [],
   "source": [
    "np.split(x, [3,5])"
   ]
  },
  {
   "cell_type": "code",
   "execution_count": null,
   "id": "4c0fba4d-6b3c-4c7f-ae5d-107432e5e6db",
   "metadata": {},
   "outputs": [],
   "source": [
    "a,b,c = np.split(x, [3,5])"
   ]
  },
  {
   "cell_type": "markdown",
   "id": "6bd36f09-4afe-439f-ba8c-6d17241ceedb",
   "metadata": {},
   "source": [
    "### İki boyutlu ayırma işlemi... "
   ]
  },
  {
   "cell_type": "code",
   "execution_count": null,
   "id": "8ffb3906-69a5-4bd5-91ba-64a46f23855e",
   "metadata": {},
   "outputs": [],
   "source": [
    "m = np.arange(16).reshape(4,4)"
   ]
  },
  {
   "cell_type": "code",
   "execution_count": null,
   "id": "c01c2097-e526-4ed9-bb86-a038a1acea79",
   "metadata": {},
   "outputs": [],
   "source": [
    "m"
   ]
  },
  {
   "cell_type": "code",
   "execution_count": null,
   "id": "4c6081da-61c6-4b0f-ae9d-4b57a2f17682",
   "metadata": {},
   "outputs": [],
   "source": [
    "np.vsplit(m, [2])"
   ]
  },
  {
   "cell_type": "code",
   "execution_count": null,
   "id": "fe9c1f6b-5f44-4b06-806d-76b65b3d58ba",
   "metadata": {},
   "outputs": [],
   "source": [
    "np.hsplit(m, [2])"
   ]
  },
  {
   "cell_type": "markdown",
   "id": "8d5ba10a-fc76-421e-a77d-d5b57c6b440b",
   "metadata": {},
   "source": [
    "# Array Sıralama"
   ]
  },
  {
   "cell_type": "code",
   "execution_count": null,
   "id": "ef1c734a-bb89-469e-b6b5-e132fa3bd92c",
   "metadata": {},
   "outputs": [],
   "source": [
    "t = np.array([4,6,2,4,6,4,3,6,8,9,7,6])"
   ]
  },
  {
   "cell_type": "code",
   "execution_count": null,
   "id": "02c484a2-f32f-4d7c-ba2b-529da091ae83",
   "metadata": {},
   "outputs": [],
   "source": [
    "np.sort(t)"
   ]
  },
  {
   "cell_type": "markdown",
   "id": "cf3dea2d-d920-4dd0-97a9-7b48e77e0f69",
   "metadata": {},
   "source": [
    "### İki boyutlu array sıralama "
   ]
  },
  {
   "cell_type": "code",
   "execution_count": null,
   "id": "c1e761bb-5f9f-4949-8284-b1ca9ae3dbb7",
   "metadata": {},
   "outputs": [],
   "source": [
    "v1= np.random.randint(1, 100, (3,3))\n",
    "v1"
   ]
  },
  {
   "cell_type": "code",
   "execution_count": null,
   "id": "16bcdf53-9f02-46fd-b285-a353890ce19e",
   "metadata": {},
   "outputs": [],
   "source": [
    "v2 = np.linspace(0,1, 25).reshape(5,5)\n",
    "v2"
   ]
  },
  {
   "cell_type": "code",
   "execution_count": null,
   "id": "8637ef4c-e188-413a-bdd9-86cbb8116b18",
   "metadata": {},
   "outputs": [],
   "source": [
    "np.sort(v1, axis=1) # 0 Sütun, 1 satır"
   ]
  },
  {
   "cell_type": "markdown",
   "id": "b94b153e-9b53-47bf-a5e8-37df223d96bb",
   "metadata": {},
   "source": [
    "# INDEX ILE ERISIM"
   ]
  },
  {
   "cell_type": "code",
   "execution_count": null,
   "id": "9eb80f28-4446-4088-9f0b-e3315ae96b4e",
   "metadata": {},
   "outputs": [],
   "source": [
    "m = np.random.randint(10, size=(3,5))\n",
    "m"
   ]
  },
  {
   "cell_type": "code",
   "execution_count": null,
   "id": "6460742b-1023-4c8f-b792-40eeaa154dc7",
   "metadata": {},
   "outputs": [],
   "source": [
    "m[0][2] = 100\n",
    "m"
   ]
  },
  {
   "cell_type": "code",
   "execution_count": null,
   "id": "9d1967fd-1aa3-42ee-b44b-1301e0f1c3e8",
   "metadata": {},
   "outputs": [],
   "source": [
    "m[0,2] = 150\n",
    "m"
   ]
  },
  {
   "cell_type": "markdown",
   "id": "469ea98c-bb11-4fe9-9def-4817393ba100",
   "metadata": {},
   "source": [
    "#### sabit tipli array lere farklı tipte veri eklemek istersek"
   ]
  },
  {
   "cell_type": "code",
   "execution_count": null,
   "id": "4b3c9c63-ea98-469c-9780-edd47852d823",
   "metadata": {},
   "outputs": [],
   "source": [
    "m"
   ]
  },
  {
   "cell_type": "code",
   "execution_count": null,
   "id": "ff17e06f-09c0-4f99-b212-fc960fb53e91",
   "metadata": {},
   "outputs": [],
   "source": [
    "m[1,0] = 2.3\n",
    "m\n",
    "# Bu şeklilde kabul etmez çünkü işin içinde sabit bit tip var..."
   ]
  },
  {
   "cell_type": "markdown",
   "id": "23027ad4-cb9e-4435-b592-2871a0d13b4b",
   "metadata": {},
   "source": [
    "# SLICING"
   ]
  },
  {
   "cell_type": "code",
   "execution_count": null,
   "id": "17578045-d1d1-4727-abb9-c4bc5d1ebc8d",
   "metadata": {},
   "outputs": [],
   "source": [
    "m[0:1:2]"
   ]
  },
  {
   "cell_type": "code",
   "execution_count": null,
   "id": "845b42bd-5e34-4f45-9a3b-4bca86e48ea4",
   "metadata": {},
   "outputs": [],
   "source": [
    "d = np.random.randint(0,100, (4,4))\n",
    "d"
   ]
  },
  {
   "cell_type": "code",
   "execution_count": null,
   "id": "e3f0c834-e89a-4a53-8acd-9c6183b53a99",
   "metadata": {},
   "outputs": [],
   "source": [
    "d[::2]"
   ]
  },
  {
   "cell_type": "code",
   "execution_count": null,
   "id": "8be35ec0-eeba-4e70-8123-5c9bdc1daf37",
   "metadata": {},
   "outputs": [],
   "source": [
    "g = np.random.randint(1,100, size = 10)\n",
    "g"
   ]
  },
  {
   "cell_type": "code",
   "execution_count": null,
   "id": "3af60172-b33d-4998-89c2-c1a74082d64f",
   "metadata": {},
   "outputs": [],
   "source": [
    "g[::-1]"
   ]
  },
  {
   "cell_type": "code",
   "execution_count": null,
   "id": "103c734f-bf43-47c4-8de2-58e530e58b00",
   "metadata": {},
   "outputs": [],
   "source": [
    "y = np.random.randint(0,100, size=(5,5))\n",
    "y"
   ]
  },
  {
   "cell_type": "code",
   "execution_count": null,
   "id": "495ef93d-3c88-4acc-909a-b3315de79302",
   "metadata": {},
   "outputs": [],
   "source": [
    "y[:,:2] #[satır, sütun]"
   ]
  },
  {
   "cell_type": "code",
   "execution_count": null,
   "id": "f913239e-ca89-4765-ac60-9080c0503f8f",
   "metadata": {},
   "outputs": [],
   "source": [
    "y[0:1,::-1]"
   ]
  },
  {
   "cell_type": "code",
   "execution_count": null,
   "id": "5bb83e9c-0312-4195-96a7-6cac3ba9a681",
   "metadata": {},
   "outputs": [],
   "source": [
    "y[1,::-1]"
   ]
  },
  {
   "cell_type": "code",
   "execution_count": null,
   "id": "2215decc-9981-4e15-9f2c-4715510c436d",
   "metadata": {},
   "outputs": [],
   "source": [
    "y[0:2,::-1]"
   ]
  },
  {
   "cell_type": "markdown",
   "id": "717390ef-0fe7-4c71-9469-c70a24413598",
   "metadata": {},
   "source": [
    "# ALT KUMELERDE ISLEM YAPARKEN"
   ]
  },
  {
   "cell_type": "code",
   "execution_count": null,
   "id": "cd195745-7eec-4f33-9d76-6329785fdf81",
   "metadata": {},
   "outputs": [],
   "source": [
    "a = np.random.randint(100, size=(5,5))\n",
    "a"
   ]
  },
  {
   "cell_type": "code",
   "execution_count": null,
   "id": "c71472c7-6dcb-4731-bce3-217665a8e908",
   "metadata": {},
   "outputs": [],
   "source": [
    "b = a[0:3,1:4]\n",
    "b"
   ]
  },
  {
   "cell_type": "code",
   "execution_count": null,
   "id": "8897d348-29ed-4b5c-8d39-d3fb1df10bc4",
   "metadata": {},
   "outputs": [],
   "source": [
    "b[0,0] = 9999\n",
    "b [1,1] = 8888"
   ]
  },
  {
   "cell_type": "code",
   "execution_count": null,
   "id": "b0a19b5c-b4a0-4f5d-926c-05690945a72c",
   "metadata": {},
   "outputs": [],
   "source": [
    "b"
   ]
  },
  {
   "cell_type": "code",
   "execution_count": null,
   "id": "1149cc87-b33a-46ee-9773-7953d316a5b4",
   "metadata": {},
   "outputs": [],
   "source": [
    "a"
   ]
  },
  {
   "cell_type": "code",
   "execution_count": null,
   "id": "f49b2bba-7c79-41f7-bfd5-75dcff32dc27",
   "metadata": {},
   "outputs": [],
   "source": [
    "a = np.random.randint(100, size=(5,5))\n",
    "a"
   ]
  },
  {
   "cell_type": "code",
   "execution_count": null,
   "id": "016611ef-4e75-4eff-a44c-c360c10917a2",
   "metadata": {},
   "outputs": [],
   "source": [
    "b = a[0:3,1:4].copy()\n",
    "b"
   ]
  },
  {
   "cell_type": "code",
   "execution_count": null,
   "id": "7ab2e2d1-ea9b-4e1a-a49e-4e2604df385b",
   "metadata": {},
   "outputs": [],
   "source": [
    "b[0,0] = 77777"
   ]
  },
  {
   "cell_type": "code",
   "execution_count": null,
   "id": "1d494571-6850-4cd1-8d61-1e63d3d9d5d1",
   "metadata": {},
   "outputs": [],
   "source": [
    "a"
   ]
  },
  {
   "cell_type": "code",
   "execution_count": null,
   "id": "2ccb6a69-573c-41c5-b6e8-5a5a8bb4b08f",
   "metadata": {},
   "outputs": [],
   "source": [
    "b"
   ]
  },
  {
   "cell_type": "markdown",
   "id": "b227e435-2c3c-48d5-a653-3b9109b825c4",
   "metadata": {},
   "source": [
    "# HAVALI INDEX (FANCY) "
   ]
  },
  {
   "cell_type": "markdown",
   "id": "de8ecabf-eafc-4a18-8adf-9b9539149dca",
   "metadata": {},
   "source": [
    "##### Olayı, listenin içinden listedeki elemanları getirmek... :)"
   ]
  },
  {
   "cell_type": "code",
   "execution_count": null,
   "id": "8e094655-d1a0-4fd9-b253-e65c1644bcd4",
   "metadata": {},
   "outputs": [],
   "source": [
    "a = np.random.randint(101, size=70)\n",
    "a"
   ]
  },
  {
   "cell_type": "code",
   "execution_count": null,
   "id": "d9e94bbf-4b42-4760-99b6-0a25f38e7ced",
   "metadata": {},
   "outputs": [],
   "source": [
    "idxs = [5,6,8,9,12,25,36,48]\n",
    "a[idxs]"
   ]
  },
  {
   "cell_type": "markdown",
   "id": "f2737813-c995-44b4-98a7-21b791d61c43",
   "metadata": {},
   "source": [
    "### IKI BOYUTTA FANCY INDEX"
   ]
  },
  {
   "cell_type": "code",
   "execution_count": null,
   "id": "f99cf9cc-c667-46ba-adb2-585ba84eb8fb",
   "metadata": {},
   "outputs": [],
   "source": [
    "f = np.random.randint(255, size=(640,400))\n",
    "f"
   ]
  },
  {
   "cell_type": "code",
   "execution_count": null,
   "id": "bf95ec2a-d55e-4b59-bf65-603214dec3ce",
   "metadata": {},
   "outputs": [],
   "source": [
    "satir = [5,6,9]\n",
    "sutun = [6,75,8]\n",
    "f[satir, sutun]"
   ]
  },
  {
   "cell_type": "markdown",
   "id": "06f14851-730c-46d7-a585-7f3a05ecce5d",
   "metadata": {},
   "source": [
    "# KOSULLU ELEMAN İŞLEMLERİ"
   ]
  },
  {
   "cell_type": "code",
   "execution_count": null,
   "id": "eec2f215-eef1-4125-9067-5a5c6ed251db",
   "metadata": {},
   "outputs": [],
   "source": [
    "s = np.random.randint(5, size=5)\n",
    "s"
   ]
  },
  {
   "cell_type": "code",
   "execution_count": null,
   "id": "955e2663-ef5e-400b-ac3a-f871a5d7780d",
   "metadata": {},
   "outputs": [],
   "source": [
    "s > 2"
   ]
  },
  {
   "cell_type": "code",
   "execution_count": null,
   "id": "878684d9-919f-4fd0-85b0-9678da92dc5d",
   "metadata": {},
   "outputs": [],
   "source": [
    "s [s > 2]"
   ]
  },
  {
   "cell_type": "markdown",
   "id": "fa7bb87b-0a81-4683-ab84-45c305e6e3e2",
   "metadata": {},
   "source": [
    "# MATEMATİKSEL İŞLEMLER \n",
    "\n",
    "### Ikı yolu var\n",
    "##### Mat operatorler\n",
    "##### ufunc işlemleri"
   ]
  },
  {
   "cell_type": "code",
   "execution_count": null,
   "id": "c378f5d7-14b4-41e3-ade6-97a78c36797e",
   "metadata": {},
   "outputs": [],
   "source": [
    "v = np.random.randint(0,100, size=5)\n",
    "v"
   ]
  },
  {
   "cell_type": "code",
   "execution_count": null,
   "id": "93f6a641-022c-4879-832e-9965a92aa8b3",
   "metadata": {},
   "outputs": [],
   "source": [
    "v - 1"
   ]
  },
  {
   "cell_type": "code",
   "execution_count": null,
   "id": "40a7cacb-4d0f-4c75-ad89-1b350cf1db68",
   "metadata": {},
   "outputs": [],
   "source": [
    "v /5"
   ]
  },
  {
   "cell_type": "code",
   "execution_count": null,
   "id": "08d14b58-de43-4ecf-91c9-0fc389cac83e",
   "metadata": {},
   "outputs": [],
   "source": [
    "# ufunc \n",
    "np.subtract(v, 3)"
   ]
  },
  {
   "cell_type": "code",
   "execution_count": null,
   "id": "dcbff217-0aaf-466e-8744-1e462063be78",
   "metadata": {},
   "outputs": [],
   "source": [
    "# np.add, np.multiply, np.divide, np.power, np.mod, np.absolute"
   ]
  },
  {
   "cell_type": "code",
   "execution_count": null,
   "id": "94e2eac2-0b00-404d-a859-195542fd5e9c",
   "metadata": {},
   "outputs": [],
   "source": [
    "# np.cos, np.sin, np.logX"
   ]
  },
  {
   "cell_type": "code",
   "execution_count": null,
   "id": "9e9269f3-a9b9-4a2f-a7ed-470d48098807",
   "metadata": {},
   "outputs": [],
   "source": [
    "# cheat sheet -> Kopya Kağıdı\n",
    "# Numpy Mathematics cheat Sheet"
   ]
  },
  {
   "cell_type": "markdown",
   "id": "91557aed-8b72-4287-88c9-cd13e06cf4ab",
   "metadata": {},
   "source": [
    "# Istatistiksel Hesaplamalar"
   ]
  },
  {
   "cell_type": "code",
   "execution_count": null,
   "id": "49ece373-6382-4f6f-8c4f-87b4fa4a4fe7",
   "metadata": {},
   "outputs": [],
   "source": [
    "v.std()"
   ]
  },
  {
   "cell_type": "code",
   "execution_count": null,
   "id": "4ce4793e-b419-4f31-ad7b-5c39819b1088",
   "metadata": {},
   "outputs": [],
   "source": [
    "v.mean()"
   ]
  },
  {
   "cell_type": "code",
   "execution_count": null,
   "id": "06958032-9d87-40b3-9410-2924c3a7a966",
   "metadata": {},
   "outputs": [],
   "source": [
    "v.var()"
   ]
  },
  {
   "cell_type": "code",
   "execution_count": null,
   "id": "0edc3bd9-00e0-456c-bb2c-bba04a55fe0c",
   "metadata": {},
   "outputs": [],
   "source": [
    "v.sum()"
   ]
  },
  {
   "cell_type": "code",
   "execution_count": null,
   "id": "a8e28faa-349c-44fb-9459-005d5f89b3fa",
   "metadata": {},
   "outputs": [],
   "source": [
    "v.min()"
   ]
  },
  {
   "cell_type": "code",
   "execution_count": null,
   "id": "8dc0b0e4-cd03-4cf9-b666-810fd6b5ec75",
   "metadata": {},
   "outputs": [],
   "source": [
    "v.max()"
   ]
  },
  {
   "cell_type": "markdown",
   "id": "5965ba1f-6dcd-46ac-a07d-f8cb06bcc90d",
   "metadata": {},
   "source": [
    "# NUMPY ILE IKI BILINMEYENLI DENKLEM COZUMU\n",
    "\n",
    "##### x+y = 11\n",
    "##### 2x+5y = 34"
   ]
  },
  {
   "cell_type": "code",
   "execution_count": null,
   "id": "60eacef8-8785-4786-8cb0-9882b51e2087",
   "metadata": {},
   "outputs": [],
   "source": [
    "a = np.array([[1,1],[2,5]])\n",
    "b = np.array([11,34])"
   ]
  },
  {
   "cell_type": "code",
   "execution_count": null,
   "id": "e8340370-6608-406e-bbcb-1780503e175c",
   "metadata": {},
   "outputs": [],
   "source": [
    "sonuc = np.linalg.solve(a,b)"
   ]
  },
  {
   "cell_type": "code",
   "execution_count": null,
   "id": "a039bde9-c6d8-451d-aa69-fe82177a0149",
   "metadata": {},
   "outputs": [],
   "source": [
    "sonuc"
   ]
  },
  {
   "cell_type": "code",
   "execution_count": null,
   "id": "b729f60f-84ce-47c3-b430-7bdcd13366a1",
   "metadata": {},
   "outputs": [],
   "source": [
    "pip install matplotlib"
   ]
  },
  {
   "cell_type": "code",
   "execution_count": 1,
   "id": "c6122ddb-18f9-49f1-9cae-34f4033ff19b",
   "metadata": {},
   "outputs": [],
   "source": [
    "import matplotlib.pyplot as plt"
   ]
  },
  {
   "cell_type": "code",
   "execution_count": 2,
   "id": "2c4f2d4f-801c-4fd1-82ba-699c62dbe90c",
   "metadata": {},
   "outputs": [],
   "source": [
    "import numpy as np"
   ]
  },
  {
   "cell_type": "code",
   "execution_count": 3,
   "id": "30baefa1-8ba7-4e4a-bbcd-649d815c9d64",
   "metadata": {},
   "outputs": [],
   "source": [
    "imgPath = \"11.jpg\""
   ]
  },
  {
   "cell_type": "code",
   "execution_count": 4,
   "id": "9a9d6feb-adf6-41ef-92c0-784693bd3edf",
   "metadata": {},
   "outputs": [],
   "source": [
    "img = plt.imread(imgPath)"
   ]
  },
  {
   "cell_type": "code",
   "execution_count": 5,
   "id": "c1b998b2-ee3d-443a-a0ff-18ad703a014a",
   "metadata": {},
   "outputs": [],
   "source": [
    "imgArr = np.array(img)"
   ]
  },
  {
   "cell_type": "code",
   "execution_count": 6,
   "id": "b86554a8-3698-406e-ac90-861a6dae2067",
   "metadata": {},
   "outputs": [
    {
     "data": {
      "text/plain": [
       "3"
      ]
     },
     "execution_count": 6,
     "metadata": {},
     "output_type": "execute_result"
    }
   ],
   "source": [
    "imgArr.ndim"
   ]
  },
  {
   "cell_type": "code",
   "execution_count": 7,
   "id": "7036374b-8b96-4a1b-b54c-ba183b161355",
   "metadata": {},
   "outputs": [
    {
     "data": {
      "text/plain": [
       "2162688"
      ]
     },
     "execution_count": 7,
     "metadata": {},
     "output_type": "execute_result"
    }
   ],
   "source": [
    "imgArr.size"
   ]
  },
  {
   "cell_type": "code",
   "execution_count": 8,
   "id": "2f6b69e2-11e8-4550-b30e-3407e9c069b1",
   "metadata": {},
   "outputs": [
    {
     "data": {
      "text/plain": [
       "(704, 1024, 3)"
      ]
     },
     "execution_count": 8,
     "metadata": {},
     "output_type": "execute_result"
    }
   ],
   "source": [
    "imgArr.shape"
   ]
  },
  {
   "cell_type": "code",
   "execution_count": 55,
   "id": "d92e453e-50e9-4a8f-943f-6adaf6eebf65",
   "metadata": {},
   "outputs": [],
   "source": [
    "grey = np.mean(imgArr, axis=2).astype(np.uint8)"
   ]
  },
  {
   "cell_type": "code",
   "execution_count": 56,
   "id": "b0f171e3-799f-4cd6-8fa8-55af9b333352",
   "metadata": {},
   "outputs": [
    {
     "data": {
      "text/plain": [
       "(704, 1024)"
      ]
     },
     "execution_count": 56,
     "metadata": {},
     "output_type": "execute_result"
    }
   ],
   "source": [
    "grey.shape"
   ]
  },
  {
   "cell_type": "code",
   "execution_count": 57,
   "id": "6c1bef29-076e-43d7-8682-1364f3873f7e",
   "metadata": {},
   "outputs": [],
   "source": [
    "grey[grey <= 205] +=50"
   ]
  },
  {
   "cell_type": "code",
   "execution_count": 58,
   "id": "52303fa1-0315-4919-8267-270da4ef3f2a",
   "metadata": {},
   "outputs": [],
   "source": [
    "newImg = plt.imsave(\"22.jpg\", grey, cmap=\"gray\")"
   ]
  },
  {
   "cell_type": "code",
   "execution_count": null,
   "id": "6e601d78-852b-4e25-9d60-a75513cebb85",
   "metadata": {},
   "outputs": [],
   "source": []
  },
  {
   "cell_type": "code",
   "execution_count": null,
   "id": "69e8ac93-7474-48ec-8972-05b93b8b736d",
   "metadata": {},
   "outputs": [],
   "source": []
  }
 ],
 "metadata": {
  "kernelspec": {
   "display_name": "Python 3 (ipykernel)",
   "language": "python",
   "name": "python3"
  },
  "language_info": {
   "codemirror_mode": {
    "name": "ipython",
    "version": 3
   },
   "file_extension": ".py",
   "mimetype": "text/x-python",
   "name": "python",
   "nbconvert_exporter": "python",
   "pygments_lexer": "ipython3",
   "version": "3.11.5"
  }
 },
 "nbformat": 4,
 "nbformat_minor": 5
}
